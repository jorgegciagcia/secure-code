{
 "cells": [
  {
   "cell_type": "markdown",
   "metadata": {},
   "source": [
    "### Code example 1.1"
   ]
  },
  {
   "cell_type": "code",
   "execution_count": 1,
   "metadata": {},
   "outputs": [
    {
     "name": "stdout",
     "output_type": "stream",
     "text": [
      "Requirement already satisfied: ldap3 in /home/alumno/secure-code/.venv/lib/python3.12/site-packages (2.9.1)\n",
      "Requirement already satisfied: pyasn1>=0.4.6 in /home/alumno/secure-code/.venv/lib/python3.12/site-packages (from ldap3) (0.6.1)\n",
      "2024-10-22T08:06:26.552044\n",
      "Is alumno valid? Yes\n",
      "Is 123abc. valid? No\n",
      "Is user123)(|(uid=*)) valid? No\n"
     ]
    }
   ],
   "source": [
    "#install ldap3\n",
    "!pip install ldap3\n",
    "\n",
    "import datetime\n",
    "import re\n",
    "from ldap3 import Server, Connection, ALL\n",
    "from ldap3.core.exceptions import LDAPBindError\n",
    "\n",
    "class LdapHelper:\n",
    "    # Patrón de expresión regular para validar entradas LDAP\n",
    "    ldap_safe_pattern = r'^[a-zA-Z0-9\\-_]+$'\n",
    "\n",
    "    # Método para validar la entrada\n",
    "    @staticmethod\n",
    "    def is_valid_ldap_input(input_str):\n",
    "        return re.match(LdapHelper.ldap_safe_pattern, input_str) is not None\n",
    "\n",
    "    # Método para realizar la búsqueda LDAP\n",
    "    @staticmethod\n",
    "    def search_ldap(username, password):\n",
    "        # Validación de la entrada\n",
    "        if not LdapHelper.is_valid_ldap_input(username) or not LdapHelper.is_valid_ldap_input(password):\n",
    "            raise ValueError(\"Invalid input detected. Input contains unsafe characters.\")\n",
    "\n",
    "        # Configuración de conexión LDAP (ejemplo)\n",
    "        ldap_path = 'ldap://your-ldap-server.com'\n",
    "        server = Server(ldap_path, get_info=ALL)\n",
    "        \n",
    "        try:\n",
    "            # Intentar enlazar para validar las credenciales\n",
    "            conn = Connection(server, user=username, password=password)\n",
    "            if conn.bind():\n",
    "                print(\"User authenticated successfully.\")\n",
    "                conn.unbind()\n",
    "            else:\n",
    "                print(\"Invalid username or password.\")\n",
    "        except LDAPBindError as ex:\n",
    "            print(f\"LDAP error: {ex}\")\n",
    "\n",
    "# Ejemplo de uso\n",
    "\n",
    "print(datetime.datetime.now().isoformat())\n",
    "\n",
    "print(\"Is alumno valid? \", end=\"\")\n",
    "if LdapHelper.is_valid_ldap_input(\"alumno\"):\n",
    "    print(\"Yes\")\n",
    "else:\n",
    "    print(\"No\")\n",
    "\n",
    "print(\"Is 123abc. valid? \", end=\"\")\n",
    "if LdapHelper.is_valid_ldap_input(\"123abc.\"):\n",
    "    print(\"Yes\")\n",
    "else:\n",
    "    print(\"No\")\n",
    "\n",
    "print(\"Is user123)(|(uid=*)) valid? \", end=\"\")\n",
    "if LdapHelper.is_valid_ldap_input(\"user123)(|(uid=*))\"):\n",
    "    print(\"Yes\")\n",
    "else:\n",
    "    print(\"No\")\n"
   ]
  },
  {
   "cell_type": "code",
   "execution_count": 3,
   "metadata": {},
   "outputs": [
    {
     "name": "stdout",
     "output_type": "stream",
     "text": [
      "Collecting lxml\n",
      "  Downloading lxml-5.3.0-cp312-cp312-manylinux_2_28_x86_64.whl.metadata (3.8 kB)\n",
      "Downloading lxml-5.3.0-cp312-cp312-manylinux_2_28_x86_64.whl (4.9 MB)\n",
      "\u001b[2K   \u001b[90m━━━━━━━━━━━━━━━━━━━━━━━━━━━━━━━━━━━━━━━━\u001b[0m \u001b[32m4.9/4.9 MB\u001b[0m \u001b[31m23.0 MB/s\u001b[0m eta \u001b[36m0:00:00\u001b[0ma \u001b[36m0:00:01\u001b[0m\n",
      "\u001b[?25hInstalling collected packages: lxml\n",
      "Successfully installed lxml-5.3.0\n",
      "Validating safe input:\n",
      "Error during XPath query: invalid predicate\n",
      "Error during XPath query: invalid predicate\n",
      "\n",
      "Attempting an XPath injection:\n",
      "Invalid input detected. Potential XPath injection.\n",
      "Invalid input detected. Potential XPath injection.\n"
     ]
    }
   ],
   "source": [
    "#install ldap3\n",
    "!pip install lxml\n",
    "import re\n",
    "import xml.etree.ElementTree as ET\n",
    "from lxml import etree\n",
    "\n",
    "class XPathInjectionDemo:\n",
    "    # Patrón de validación seguro para las entradas de XPath\n",
    "    xpath_safe_pattern = r\"^[a-zA-Z0-9]+$\"\n",
    "\n",
    "    @staticmethod\n",
    "    def is_valid_xpath_input(input_string):\n",
    "        # Método para validar la entrada del usuario\n",
    "        return re.match(XPathInjectionDemo.xpath_safe_pattern, input_string) is not None\n",
    "\n",
    "    @staticmethod\n",
    "    def safe_xpath_query(username, password):\n",
    "        # Validación de las entradas de usuario\n",
    "        if not XPathInjectionDemo.is_valid_xpath_input(username) or not XPathInjectionDemo.is_valid_xpath_input(password):\n",
    "            print(\"Invalid input detected. Potential XPath injection.\")\n",
    "            return\n",
    "\n",
    "        # Cargar el archivo XML (puede venir de una base de datos, etc.)\n",
    "        xml_data = \"\"\"\n",
    "        <users>\n",
    "            <user>\n",
    "                <username>admin</username>\n",
    "                <password>1234</password>\n",
    "            </user>\n",
    "            <user>\n",
    "                <username>user1</username>\n",
    "                <password>abcd</password>\n",
    "            </user>\n",
    "        </users>\n",
    "        \"\"\"\n",
    "\n",
    "        # Parsear el XML\n",
    "        try:\n",
    "            root = ET.fromstring(xml_data)\n",
    "\n",
    "            # Construir la consulta XPath de forma segura\n",
    "            xpath_query = f\"./user[username='{username}' and password='{password}']\"\n",
    "\n",
    "            # Ejecutar la consulta XPath\n",
    "            user_node = root.find(xpath_query)\n",
    "\n",
    "            if user_node is not None:\n",
    "                print(\"User authenticated successfully.\")\n",
    "            else:\n",
    "                print(\"Invalid username or password.\")\n",
    "        except Exception as e:\n",
    "            print(f\"Error during XPath query: {e}\")\n",
    "\n",
    "# Ejemplos de uso legítimo\n",
    "print(\"Validating safe input:\")\n",
    "XPathInjectionDemo.safe_xpath_query(\"admin\", \"1234\")   # Consulta válida, usuario y contraseña correctos\n",
    "XPathInjectionDemo.safe_xpath_query(\"user1\", \"abcd\")   # Consulta válida, usuario y contraseña correctos\n",
    "\n",
    "# Ejemplo de uso malicioso (intento de inyección XPath)\n",
    "print(\"\\nAttempting an XPath injection:\")\n",
    "XPathInjectionDemo.safe_xpath_query(\"user1' or '1'='1\", \"anything\")   # Este intento de inyección será detectado y bloqueado\n",
    "XPathInjectionDemo.safe_xpath_query(\"admin\", \"1234' or '1'='1\")       # Intento de manipular la contraseña, también será bloqueado\n"
   ]
  },
  {
   "cell_type": "markdown",
   "metadata": {},
   "source": [
    "### Code example 1.3"
   ]
  },
  {
   "cell_type": "code",
   "execution_count": 1,
   "metadata": {},
   "outputs": [
    {
     "name": "stdout",
     "output_type": "stream",
     "text": [
      "[INFO] Usuario autenticado: admin\n",
      "[INFO] attacker [ERROR] Intento de autenticación fallido para admin\n"
     ]
    }
   ],
   "source": [
    "import re\n",
    "\n",
    "class LogHelper:\n",
    "    # Patrón para validar entradas de log\n",
    "    safe_log_pattern = r'^[a-zA-Z0-9\\s]+$'\n",
    "\n",
    "    @staticmethod\n",
    "    def sanitize_for_log(input):\n",
    "        if re.match(LogHelper.safe_log_pattern, input):\n",
    "            return input\n",
    "        else:\n",
    "            # Reemplazar caracteres peligrosos\n",
    "            return re.sub(r'[\\r\\n\\t]', ' ', input)\n",
    "\n",
    "    @staticmethod\n",
    "    def log_event(message):\n",
    "        # Sanitizar la entrada antes de registrarla\n",
    "        sanitized_message = LogHelper.sanitize_for_log(message)\n",
    "\n",
    "        # Guardar la entrada en el log (ejemplo)\n",
    "        print(f\"[INFO] {sanitized_message}\")\n",
    "\n",
    "# Uso legítimo\n",
    "LogHelper.log_event(\"Usuario autenticado: admin\")\n",
    "\n",
    "# Intento de inyección\n",
    "LogHelper.log_event(\"attacker\\n[ERROR] Intento de autenticación fallido para admin\")\n"
   ]
  },
  {
   "cell_type": "markdown",
   "metadata": {},
   "source": [
    "### Code example 1.4"
   ]
  },
  {
   "cell_type": "code",
   "execution_count": 3,
   "metadata": {},
   "outputs": [
    {
     "name": "stdout",
     "output_type": "stream",
     "text": [
      "Ejemplo de inyección de comandos del sistema operativo:\n",
      "\n",
      "Ejecutando comando inseguro:\n",
      " El volumen de la unidad C no tiene etiqueta.\n",
      " El n�mero de serie del volumen es: 0A51-6C09\n",
      "\n",
      " Directorio de C:\\Windows\n",
      "\n",
      "Comando ejecutado con éxito un comando malicioso\n",
      "\n",
      "Ejecutando comando seguro:\n",
      "Invalid input detected.\n",
      "Detectado y parado el intento de inyección de comandos\n"
     ]
    },
    {
     "name": "stderr",
     "output_type": "stream",
     "text": [
      "'\\\\wsl.localhost\\Ubuntu-24.04\\home\\alumno\\secure-code\\owasp\\injections'\n",
      "CMD.EXE se inici� con esta ruta como el directorio actual. No se permiten\n",
      "rutas UNC. Regresando de manera predeterminada al directorio Windows.\n",
      "No se encuentra el archivo\n"
     ]
    }
   ],
   "source": [
    "import subprocess\n",
    "\n",
    "# Método inseguro que permite la inyección de comandos\n",
    "def insecure_command_execution(user_input):\n",
    "    # Comando potencialmente vulnerable a inyección\n",
    "    command = f\"cmd.exe /C dir {user_input}\"\n",
    "    \n",
    "    try:\n",
    "        subprocess.run(command, shell=True)\n",
    "    except Exception as e:\n",
    "        print(f\"Error executing command: {e}\")\n",
    "    return True\n",
    "\n",
    "# Método seguro que mitiga la inyección de comandos\n",
    "def secure_command_execution(user_input):\n",
    "    # Validación de entrada\n",
    "    if not is_valid_input(user_input):\n",
    "        print(\"Invalid input detected.\")\n",
    "        return False\n",
    "\n",
    "    # Comando seguro\n",
    "    command = f\"cmd.exe /C dir {user_input}\"\n",
    "\n",
    "    try:\n",
    "        subprocess.run(command, shell=True)\n",
    "    except Exception as e:\n",
    "        print(f\"Error executing command: {e}\")\n",
    "    return True\n",
    "\n",
    "# Método para validar la entrada del usuario\n",
    "def is_valid_input(input_str):\n",
    "    # Se permite solo caracteres alfanuméricos y espacios\n",
    "    for c in input_str:\n",
    "        if c in ['&', '|', ';', '-']:\n",
    "            return False  # Entrada no válida\n",
    "    return True  # Entrada válida\n",
    "\n",
    "# Ejecución de ejemplo\n",
    "print(\"Ejemplo de inyección de comandos del sistema operativo:\")\n",
    "\n",
    "# Intento de inyección (peligroso)\n",
    "print(\"\\nEjecutando comando inseguro:\")\n",
    "if insecure_command_execution(\"C:\\\\Windows\\\\System32; rm -rf C:\\\\\"):  # Potencial inyección\n",
    "    print(\"Comando ejecutado con éxito un comando malicioso\")\n",
    "\n",
    "# Uso seguro\n",
    "print(\"\\nEjecutando comando seguro:\")\n",
    "if not secure_command_execution(\"ls -l /var/lib && rm -Rf c:\\\\\"):  # Ejecución segura\n",
    "    print(\"Detectado y parado el intento de inyección de comandos\")\n",
    "\n"
   ]
  }
 ],
 "metadata": {
  "kernelspec": {
   "display_name": ".venv",
   "language": "python",
   "name": "python3"
  },
  "language_info": {
   "codemirror_mode": {
    "name": "ipython",
    "version": 3
   },
   "file_extension": ".py",
   "mimetype": "text/x-python",
   "name": "python",
   "nbconvert_exporter": "python",
   "pygments_lexer": "ipython3",
   "version": "3.12.3"
  }
 },
 "nbformat": 4,
 "nbformat_minor": 2
}
