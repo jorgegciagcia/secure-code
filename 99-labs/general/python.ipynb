{
 "cells": [
  {
   "cell_type": "markdown",
   "metadata": {},
   "source": [
    "# Guardado de contraseñas\n",
    "\n",
    "Hash + salt"
   ]
  },
  {
   "cell_type": "code",
   "execution_count": 3,
   "metadata": {},
   "outputs": [
    {
     "name": "stdout",
     "output_type": "stream",
     "text": [
      "Salt: a5a6d7b533d7b410b7746e9985c1da13\n",
      "Hash de la contraseña: 7fd374083399a9bb61ec33f4123a7e7101a6b9c57c62cfc71343fd939ec8dcd0\n",
      "Igual\n"
     ]
    }
   ],
   "source": [
    "import hashlib\n",
    "import os\n",
    "\n",
    "class PasswordHasher:\n",
    "    @staticmethod\n",
    "    def generate_salt(length=16):\n",
    "        return os.urandom(length)\n",
    "\n",
    "    @staticmethod\n",
    "    def hash_password(password, salt):\n",
    "        sha256 = hashlib.sha256()\n",
    "        password_bytes = password.encode('utf-8')\n",
    "        salted_password = password_bytes + salt\n",
    "        sha256.update(salted_password)\n",
    "        return sha256.hexdigest()\n",
    "\n",
    "    @staticmethod\n",
    "    def verify_password(entered_password, stored_hash, stored_salt):\n",
    "        hash_of_entered_password = PasswordHasher.hash_password(entered_password, stored_salt)\n",
    "        return hash_of_entered_password.lower() == stored_hash.lower()\n",
    "\n",
    "# Generar un salt\n",
    "salt = PasswordHasher.generate_salt()\n",
    "print(f\"Salt: {salt.hex()}\")\n",
    "\n",
    "# Hash de la contraseña\n",
    "password = \"123abc.\"\n",
    "hashed_password = PasswordHasher.hash_password(password, salt)\n",
    "print(f\"Hash de la contraseña: {hashed_password}\")\n",
    "\n",
    "password2 = \"123abc.\"\n",
    "print(\"Igual\" if PasswordHasher.verify_password(password2, hashed_password, salt) else \"Diferente\")  # True"
   ]
  }
 ],
 "metadata": {
  "kernelspec": {
   "display_name": ".venv",
   "language": "python",
   "name": "python3"
  },
  "language_info": {
   "codemirror_mode": {
    "name": "ipython",
    "version": 3
   },
   "file_extension": ".py",
   "mimetype": "text/x-python",
   "name": "python",
   "nbconvert_exporter": "python",
   "pygments_lexer": "ipython3",
   "version": "3.12.3"
  }
 },
 "nbformat": 4,
 "nbformat_minor": 2
}
