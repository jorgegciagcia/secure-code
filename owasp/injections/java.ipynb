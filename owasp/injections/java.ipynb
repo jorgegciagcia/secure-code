{
 "cells": [
  {
   "cell_type": "markdown",
   "metadata": {},
   "source": [
    "\n",
    "Las inyecciones representan una de las vulnerabilidades más comunes y peligrosas en las aplicaciones web. Consisten en la inserción de código malicioso o no deseado en una aplicación vulnerable, con el objetivo de alterar su funcionamiento previsto. Este tipo de ataque puede ocurrir cuando una aplicación no valida o desinfecta correctamente los datos introducidos por los usuarios, lo que permite a un atacante ejecutar comandos maliciosos, obtener acceso no autorizado a datos, o incluso comprometer la seguridad del sistema."
   ]
  },
  {
   "cell_type": "markdown",
   "metadata": {},
   "source": [
    "## INYECCIONES LDAP\n",
    "\n",
    "### Descripción\n",
    "\n",
    "Una inyección LDAP (Lightweight Directory Access Protocol) es un tipo de ataque que aprovecha vulnerabilidades en las consultas LDAP de una aplicación para manipular o modificar los datos enviados a un servidor de directorio. Al igual que las inyecciones SQL, las inyecciones LDAP ocurren cuando las entradas de usuario no se validan ni desinfectan adecuadamente, permitiendo que un atacante inserte comandos o filtros LDAP maliciosos en las consultas.\n",
    "\n",
    "El protocolo LDAP se utiliza comúnmente para acceder y gestionar información en directorios como Active Directory, que contienen datos sobre usuarios, dispositivos y otros recursos de red. Un atacante puede aprovechar una vulnerabilidad de inyección LDAP para:\n",
    "\n",
    "Acceder a información no autorizada dentro del servidor de directorio.\n",
    "Modificar datos en el directorio.\n",
    "Bypass de autenticación para obtener acceso a recursos o cuentas restringidas.\n",
    "Ejecutar operaciones no deseadas que comprometan la seguridad del sistema.\n",
    "\n",
    "### Ejemplo de Inyección LDAP\n",
    "\n",
    "`(&(uid=usuario)(password=clave))`\n",
    "\n",
    "Si la aplicación no valida correctamente la entrada del usuario, un atacante podría introducir una cadena manipulada como:\n",
    "\n",
    "`(&(uid=usuario)(&))(password=clave)`\n",
    "\n",
    "En este caso, la consulta resultante siempre será verdadera, permitiendo que el atacante eluda la autenticación.\n",
    "\n",
    "### Prevención\n",
    "Para mitigar los riesgos de una inyección LDAP, es importante:\n",
    "\n",
    "- Validar y desinfectar las entradas del usuario antes de utilizarlas en consultas LDAP.\n",
    "- Usar consultas LDAP parametrizadas, lo que reduce la posibilidad de manipulación de los parámetros.\n",
    "- Restringir los permisos de las aplicaciones en el servidor de directorios, limitando el acceso a solo la información necesaria."
   ]
  },
  {
   "cell_type": "code",
   "execution_count": 2,
   "metadata": {
    "vscode": {
     "languageId": "java"
    }
   },
   "outputs": [
    {
     "name": "stdout",
     "output_type": "stream",
     "text": [
      "Is alumno valid? Yes\n",
      "Is 123abc. valid? No\n",
      "Is user123)(|(uid=*)) valid? No\n"
     ]
    }
   ],
   "source": [
    "// Importar las bibliotecas necesarias\n",
    "import javax.naming.directory.*;\n",
    "import javax.naming.*;\n",
    "import java.util.regex.*;\n",
    "\n",
    "public class LdapHelper {\n",
    "    // Patrón de expresión regular para validar entradas LDAP\n",
    "    private static final String ldapSafePattern = \"^[a-zA-Z0-9\\\\-_]+$\";\n",
    "\n",
    "    // Método para validar la entrada\n",
    "    public static boolean isValidLdapInput(String input) {\n",
    "        Pattern pattern = Pattern.compile(ldapSafePattern);\n",
    "        Matcher matcher = pattern.matcher(input);\n",
    "        return matcher.matches();\n",
    "    }\n",
    "\n",
    "    // Método para realizar la búsqueda LDAP\n",
    "    public static void searchLdap(String username, String password) {\n",
    "        // Validación de la entrada\n",
    "        if (!isValidLdapInput(username) || !isValidLdapInput(password)) {\n",
    "            throw new IllegalArgumentException(\"Invalid input detected. Input contains unsafe characters.\");\n",
    "        }\n",
    "\n",
    "        // Configuración de conexión LDAP (ejemplo)\n",
    "        String ldapPath = \"ldap://your-ldap-server.com\";\n",
    "        Hashtable<String, String> env = new Hashtable<>();\n",
    "        env.put(Context.INITIAL_CONTEXT_FACTORY, \"com.sun.jndi.ldap.LdapCtxFactory\");\n",
    "        env.put(Context.PROVIDER_URL, ldapPath);\n",
    "        env.put(Context.SECURITY_PRINCIPAL, username);\n",
    "        env.put(Context.SECURITY_CREDENTIALS, password);\n",
    "\n",
    "        try {\n",
    "            // Intentar enlazar para validar las credenciales\n",
    "            DirContext ctx = new InitialDirContext(env);\n",
    "            // Aquí se puede realizar una búsqueda específica si es necesario\n",
    "            System.out.println(\"User authenticated successfully.\");\n",
    "            ctx.close();\n",
    "        } catch (NamingException ex) {\n",
    "            System.out.println(\"LDAP error: \" + ex.getMessage());\n",
    "        }\n",
    "    }\n",
    "\n",
    "public static void main(String[] args) {\n",
    "        System.out.print(\"Is alumno valid? \");\n",
    "        if (isValidLdapInput(\"alumno\")) {\n",
    "            System.out.println(\"Yes\");\n",
    "        } else {\n",
    "            System.out.println(\"No\");\n",
    "        }\n",
    "\n",
    "        System.out.print(\"Is 123abc. valid? \");\n",
    "        if (isValidLdapInput(\"123abc.\")) {\n",
    "            System.out.println(\"Yes\");\n",
    "        } else {\n",
    "            System.out.println(\"No\");\n",
    "        }\n",
    "\n",
    "        System.out.print(\"Is user123)(|(uid=*)) valid? \");\n",
    "        if (isValidLdapInput(\"user123)(|(uid=*))\") ) {\n",
    "            System.out.println(\"Yes\");\n",
    "        } else {\n",
    "            System.out.println(\"No\");\n",
    "        }\n",
    "    }\n",
    "}\n",
    "\n",
    "// Llamar al método main\n",
    "LdapHelper.main(null);\n"
   ]
  },
  {
   "cell_type": "markdown",
   "metadata": {},
   "source": [
    "### MAS INFORMACION\n",
    "\n",
    "- https://www.blackhat.com/presentations/bh-europe-08/Alonso-Parada/Whitepaper/bh-eu-08-alonso-parada-WP.pdf\n",
    "- https://www.exploit-db.com/docs/spanish/21315-[spanish]-taller-de-inyecciones-ldap.pdf\n"
   ]
  }
 ],
 "metadata": {
  "kernelspec": {
   "display_name": "Java",
   "language": "java",
   "name": "java"
  },
  "language_info": {
   "codemirror_mode": "java",
   "file_extension": ".jshell",
   "mimetype": "text/x-java-source",
   "name": "Java",
   "pygments_lexer": "java",
   "version": "21.0.4+7-Ubuntu-1ubuntu224.04"
  }
 },
 "nbformat": 4,
 "nbformat_minor": 2
}
