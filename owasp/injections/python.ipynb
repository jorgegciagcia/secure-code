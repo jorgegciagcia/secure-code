{
 "cells": [
  {
   "cell_type": "markdown",
   "metadata": {},
   "source": [
    "\n",
    "Las inyecciones representan una de las vulnerabilidades más comunes y peligrosas en las aplicaciones web. Consisten en la inserción de código malicioso o no deseado en una aplicación vulnerable, con el objetivo de alterar su funcionamiento previsto. Este tipo de ataque puede ocurrir cuando una aplicación no valida o desinfecta correctamente los datos introducidos por los usuarios, lo que permite a un atacante ejecutar comandos maliciosos, obtener acceso no autorizado a datos, o incluso comprometer la seguridad del sistema."
   ]
  },
  {
   "cell_type": "markdown",
   "metadata": {},
   "source": [
    "## INYECCIONES LDAP\n",
    "\n",
    "### Descripción\n",
    "\n",
    "Una inyección LDAP (Lightweight Directory Access Protocol) es un tipo de ataque que aprovecha vulnerabilidades en las consultas LDAP de una aplicación para manipular o modificar los datos enviados a un servidor de directorio. Al igual que las inyecciones SQL, las inyecciones LDAP ocurren cuando las entradas de usuario no se validan ni desinfectan adecuadamente, permitiendo que un atacante inserte comandos o filtros LDAP maliciosos en las consultas.\n",
    "\n",
    "El protocolo LDAP se utiliza comúnmente para acceder y gestionar información en directorios como Active Directory, que contienen datos sobre usuarios, dispositivos y otros recursos de red. Un atacante puede aprovechar una vulnerabilidad de inyección LDAP para:\n",
    "\n",
    "Acceder a información no autorizada dentro del servidor de directorio.\n",
    "Modificar datos en el directorio.\n",
    "Bypass de autenticación para obtener acceso a recursos o cuentas restringidas.\n",
    "Ejecutar operaciones no deseadas que comprometan la seguridad del sistema.\n",
    "\n",
    "### Ejemplo de Inyección LDAP\n",
    "\n",
    "`(&(uid=usuario)(password=clave))`\n",
    "\n",
    "Si la aplicación no valida correctamente la entrada del usuario, un atacante podría introducir una cadena manipulada como:\n",
    "\n",
    "`(&(uid=usuario)(&))(password=clave)`\n",
    "\n",
    "En este caso, la consulta resultante siempre será verdadera, permitiendo que el atacante eluda la autenticación.\n",
    "\n",
    "### Prevención\n",
    "Para mitigar los riesgos de una inyección LDAP, es importante:\n",
    "\n",
    "- Validar y desinfectar las entradas del usuario antes de utilizarlas en consultas LDAP.\n",
    "- Usar consultas LDAP parametrizadas, lo que reduce la posibilidad de manipulación de los parámetros.\n",
    "- Restringir los permisos de las aplicaciones en el servidor de directorios, limitando el acceso a solo la información necesaria."
   ]
  },
  {
   "cell_type": "code",
   "execution_count": 2,
   "metadata": {},
   "outputs": [
    {
     "name": "stdout",
     "output_type": "stream",
     "text": [
      "Requirement already satisfied: ldap3 in /home/alumno/curso/lib/python3.12/site-packages (2.9.1)\n",
      "Requirement already satisfied: pyasn1>=0.4.6 in /home/alumno/curso/lib/python3.12/site-packages (from ldap3) (0.6.1)\n",
      "Is alumno valid? Yes\n",
      "Is 123abc. valid? No\n",
      "Is user123)(|(uid=*)) valid? No\n"
     ]
    }
   ],
   "source": [
    "#install ldap3\n",
    "!pip install ldap3\n",
    "\n",
    "import re\n",
    "from ldap3 import Server, Connection, ALL\n",
    "from ldap3.core.exceptions import LDAPBindError\n",
    "\n",
    "class LdapHelper:\n",
    "    # Patrón de expresión regular para validar entradas LDAP\n",
    "    ldap_safe_pattern = r'^[a-zA-Z0-9\\-_]+$'\n",
    "\n",
    "    # Método para validar la entrada\n",
    "    @staticmethod\n",
    "    def is_valid_ldap_input(input_str):\n",
    "        return re.match(LdapHelper.ldap_safe_pattern, input_str) is not None\n",
    "\n",
    "    # Método para realizar la búsqueda LDAP\n",
    "    @staticmethod\n",
    "    def search_ldap(username, password):\n",
    "        # Validación de la entrada\n",
    "        if not LdapHelper.is_valid_ldap_input(username) or not LdapHelper.is_valid_ldap_input(password):\n",
    "            raise ValueError(\"Invalid input detected. Input contains unsafe characters.\")\n",
    "\n",
    "        # Configuración de conexión LDAP (ejemplo)\n",
    "        ldap_path = 'ldap://your-ldap-server.com'\n",
    "        server = Server(ldap_path, get_info=ALL)\n",
    "        \n",
    "        try:\n",
    "            # Intentar enlazar para validar las credenciales\n",
    "            conn = Connection(server, user=username, password=password)\n",
    "            if conn.bind():\n",
    "                print(\"User authenticated successfully.\")\n",
    "                conn.unbind()\n",
    "            else:\n",
    "                print(\"Invalid username or password.\")\n",
    "        except LDAPBindError as ex:\n",
    "            print(f\"LDAP error: {ex}\")\n",
    "\n",
    "# Ejemplo de uso\n",
    "print(\"Is alumno valid? \", end=\"\")\n",
    "if LdapHelper.is_valid_ldap_input(\"alumno\"):\n",
    "    print(\"Yes\")\n",
    "else:\n",
    "    print(\"No\")\n",
    "\n",
    "print(\"Is 123abc. valid? \", end=\"\")\n",
    "if LdapHelper.is_valid_ldap_input(\"123abc.\"):\n",
    "    print(\"Yes\")\n",
    "else:\n",
    "    print(\"No\")\n",
    "\n",
    "print(\"Is user123)(|(uid=*)) valid? \", end=\"\")\n",
    "if LdapHelper.is_valid_ldap_input(\"user123)(|(uid=*))\"):\n",
    "    print(\"Yes\")\n",
    "else:\n",
    "    print(\"No\")\n"
   ]
  },
  {
   "cell_type": "markdown",
   "metadata": {},
   "source": [
    "### MAS INFORMACION\n",
    "\n",
    "- https://www.blackhat.com/presentations/bh-europe-08/Alonso-Parada/Whitepaper/bh-eu-08-alonso-parada-WP.pdf\n",
    "- https://www.exploit-db.com/docs/spanish/21315-[spanish]-taller-de-inyecciones-ldap.pdf\n"
   ]
  }
 ],
 "metadata": {
  "kernelspec": {
   "display_name": "curso",
   "language": "python",
   "name": "python3"
  },
  "language_info": {
   "codemirror_mode": {
    "name": "ipython",
    "version": 3
   },
   "file_extension": ".py",
   "mimetype": "text/x-python",
   "name": "python",
   "nbconvert_exporter": "python",
   "pygments_lexer": "ipython3",
   "version": "3.12.3"
  }
 },
 "nbformat": 4,
 "nbformat_minor": 2
}
