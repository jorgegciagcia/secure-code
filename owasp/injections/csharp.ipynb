{
 "cells": [
  {
   "cell_type": "markdown",
   "metadata": {},
   "source": [
    "\n",
    "Las inyecciones representan una de las vulnerabilidades más comunes y peligrosas en las aplicaciones web. Consisten en la inserción de código malicioso o no deseado en una aplicación vulnerable, con el objetivo de alterar su funcionamiento previsto. Este tipo de ataque puede ocurrir cuando una aplicación no valida o desinfecta correctamente los datos introducidos por los usuarios, lo que permite a un atacante ejecutar comandos maliciosos, obtener acceso no autorizado a datos, o incluso comprometer la seguridad del sistema."
   ]
  },
  {
   "cell_type": "markdown",
   "metadata": {},
   "source": [
    "## INYECCIONES LDAP\n",
    "\n",
    "### Descripción\n",
    "\n",
    "Una inyección LDAP (Lightweight Directory Access Protocol) es un tipo de ataque que aprovecha vulnerabilidades en las consultas LDAP de una aplicación para manipular o modificar los datos enviados a un servidor de directorio. Al igual que las inyecciones SQL, las inyecciones LDAP ocurren cuando las entradas de usuario no se validan ni desinfectan adecuadamente, permitiendo que un atacante inserte comandos o filtros LDAP maliciosos en las consultas.\n",
    "\n",
    "El protocolo LDAP se utiliza comúnmente para acceder y gestionar información en directorios como Active Directory, que contienen datos sobre usuarios, dispositivos y otros recursos de red. Un atacante puede aprovechar una vulnerabilidad de inyección LDAP para:\n",
    "\n",
    "Acceder a información no autorizada dentro del servidor de directorio.\n",
    "Modificar datos en el directorio.\n",
    "Bypass de autenticación para obtener acceso a recursos o cuentas restringidas.\n",
    "Ejecutar operaciones no deseadas que comprometan la seguridad del sistema.\n",
    "\n",
    "### Ejemplo de Inyección LDAP\n",
    "\n",
    "`(&(uid=usuario)(password=clave))`\n",
    "\n",
    "Si la aplicación no valida correctamente la entrada del usuario, un atacante podría introducir una cadena manipulada como:\n",
    "\n",
    "`(&(uid=usuario)(&))(password=clave)`\n",
    "\n",
    "En este caso, la consulta resultante siempre será verdadera, permitiendo que el atacante eluda la autenticación.\n",
    "\n",
    "### Prevención\n",
    "Para mitigar los riesgos de una inyección LDAP, es importante:\n",
    "\n",
    "- Validar y desinfectar las entradas del usuario antes de utilizarlas en consultas LDAP.\n",
    "- Usar consultas LDAP parametrizadas, lo que reduce la posibilidad de manipulación de los parámetros.\n",
    "- Restringir los permisos de las aplicaciones en el servidor de directorios, limitando el acceso a solo la información necesaria."
   ]
  },
  {
   "cell_type": "code",
   "execution_count": 3,
   "metadata": {
    "vscode": {
     "languageId": "csharp"
    }
   },
   "outputs": [
    {
     "data": {
      "text/html": [
       "<div><div></div><div></div><div><strong>Installed Packages</strong><ul><li><span>System.DirectoryServices, 8.0.0</span></li></ul></div></div>"
      ]
     },
     "metadata": {},
     "output_type": "display_data"
    },
    {
     "name": "stdout",
     "output_type": "stream",
     "text": [
      "Is alumno valid? Yes\n",
      "Is 123abc. valid? No\n",
      "Is user123)(|(uid=*)) valid? No\n"
     ]
    }
   ],
   "source": [
    "#r \"nuget: System.DirectoryServices\"\n",
    "\n",
    "using System;\n",
    "using System.Text.RegularExpressions;\n",
    "using System.DirectoryServices;\n",
    "\n",
    "public class LdapHelper\n",
    "{\n",
    "    // Patrón de expresión regular para validar entradas LDAP\n",
    "    private static readonly string ldapSafePattern = @\"^[a-zA-Z0-9\\-_]+$\";\n",
    "\n",
    "    // Método para validar la entrada\n",
    "    public static bool IsValidLdapInput(string input)\n",
    "    {\n",
    "        return Regex.IsMatch(input, ldapSafePattern);\n",
    "    }\n",
    "\n",
    "    // Método para realizar la búsqueda LDAP\n",
    "    public static void SearchLdap(string username, string password)\n",
    "    {\n",
    "        // Validación de la entrada\n",
    "        if (!IsValidLdapInput(username) || !IsValidLdapInput(password))\n",
    "        {\n",
    "            throw new ArgumentException(\"Invalid input detected. Input contains unsafe characters.\");\n",
    "        }\n",
    "\n",
    "        // Configuración de conexión LDAP (ejemplo)\n",
    "        string ldapPath = \"LDAP://your-ldap-server.com\";\n",
    "        using (DirectoryEntry directoryEntry = new DirectoryEntry(ldapPath))\n",
    "        {\n",
    "            // Autenticación con las credenciales proporcionadas\n",
    "            directoryEntry.Username = username;\n",
    "            directoryEntry.Password = password;\n",
    "\n",
    "            try\n",
    "            {\n",
    "                // Intentar enlazar para validar las credenciales\n",
    "                DirectorySearcher searcher = new DirectorySearcher(directoryEntry)\n",
    "                {\n",
    "                    Filter = $\"(&(uid={username})(userPassword={password}))\"\n",
    "                };\n",
    "                SearchResult result = searcher.FindOne();\n",
    "\n",
    "                if (result != null)\n",
    "                {\n",
    "                    Console.WriteLine(\"User authenticated successfully.\");\n",
    "                }\n",
    "                else\n",
    "                {\n",
    "                    Console.WriteLine(\"Invalid username or password.\");\n",
    "                }\n",
    "            }\n",
    "            catch (Exception ex)\n",
    "            {\n",
    "                Console.WriteLine($\"LDAP error: {ex.Message}\");\n",
    "            }\n",
    "        }\n",
    "    }\n",
    "}\n",
    "\n",
    "Console.Write(\"Is alumno valid? \");\n",
    "if (LdapHelper.IsValidLdapInput(\"alumno\") == true)\n",
    "    Console.WriteLine(\"Yes\");\n",
    "else\n",
    "    Console.WriteLine(\"No\");\n",
    "\n",
    "Console.Write(\"Is 123abc. valid? \");\n",
    "if (LdapHelper.IsValidLdapInput(\"123abc.\") == true)\n",
    "    Console.WriteLine(\"Yes\");\n",
    "else\n",
    "    Console.WriteLine(\"No\");\n",
    "\n",
    "Console.Write(\"Is user123)(|(uid=*)) valid? \");\n",
    "if (LdapHelper.IsValidLdapInput(\"user123)(|(uid=*))\") == true)\n",
    "    Console.WriteLine(\"Yes\");\n",
    "else\n",
    "    Console.WriteLine(\"No\");\n"
   ]
  },
  {
   "cell_type": "markdown",
   "metadata": {},
   "source": [
    "### MAS INFORMACION\n",
    "\n",
    "- https://www.blackhat.com/presentations/bh-europe-08/Alonso-Parada/Whitepaper/bh-eu-08-alonso-parada-WP.pdf\n",
    "- https://www.exploit-db.com/docs/spanish/21315-[spanish]-taller-de-inyecciones-ldap.pdf\n"
   ]
  }
 ],
 "metadata": {
  "kernelspec": {
   "display_name": ".NET (C#)",
   "language": "C#",
   "name": ".net-csharp"
  },
  "language_info": {
   "file_extension": ".cs",
   "mimetype": "text/x-csharp",
   "name": "C#",
   "pygments_lexer": "csharp",
   "version": "12.0"
  }
 },
 "nbformat": 4,
 "nbformat_minor": 2
}
