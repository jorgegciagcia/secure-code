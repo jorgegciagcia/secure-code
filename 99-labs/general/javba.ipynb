{
 "cells": [
  {
   "cell_type": "markdown",
   "metadata": {},
   "source": [
    "# Guardado de contraseñas\n",
    "\n",
    "Hash + salt"
   ]
  },
  {
   "cell_type": "code",
   "execution_count": 7,
   "metadata": {
    "vscode": {
     "languageId": "java"
    }
   },
   "outputs": [
    {
     "name": "stdout",
     "output_type": "stream",
     "text": [
      "Salt: [52, 34, -82, -100, 59, -65, -49, -7, -99, 48, -76, 54, 60, 21, 6, -90]\n",
      "Hash de la contraseña: 0304d6a7339ad24b61ff7267253c0ce2c07d91ad7df412a2c14b0fe3ee9a9f55\n",
      "Diferente\n"
     ]
    }
   ],
   "source": [
    "import java.security.MessageDigest;\n",
    "import java.security.NoSuchAlgorithmException;\n",
    "import java.security.SecureRandom;\n",
    "import java.util.Arrays;\n",
    "\n",
    "public class PasswordHasher {\n",
    "\n",
    "    // Generar un salt aleatorio\n",
    "    public static byte[] generateSalt(int length) {\n",
    "        byte[] salt = new byte[length];\n",
    "        SecureRandom rng = new SecureRandom();\n",
    "        rng.nextBytes(salt);\n",
    "        return salt;\n",
    "    }\n",
    "\n",
    "    // Hash de la contraseña combinando la contraseña y el salt\n",
    "    public static String hashPassword(String password, byte[] salt) throws NoSuchAlgorithmException {\n",
    "        MessageDigest sha256 = MessageDigest.getInstance(\"SHA-256\");\n",
    "\n",
    "        // Convertir la contraseña a bytes y concatenar con el salt\n",
    "        byte[] passwordBytes = password.getBytes();\n",
    "        byte[] saltedPassword = new byte[passwordBytes.length + salt.length];\n",
    "\n",
    "        System.arraycopy(passwordBytes, 0, saltedPassword, 0, passwordBytes.length);\n",
    "        System.arraycopy(salt, 0, saltedPassword, passwordBytes.length, salt.length);\n",
    "\n",
    "        // Generar el hash\n",
    "        byte[] hash = sha256.digest(saltedPassword);\n",
    "        StringBuilder hexString = new StringBuilder();\n",
    "        for (byte b : hash) {\n",
    "            hexString.append(String.format(\"%02x\", b));\n",
    "        }\n",
    "        return hexString.toString();\n",
    "    }\n",
    "\n",
    "    public static boolean verifyPassword(String enteredPassword, String storedHash, byte[] storedSalt) throws NoSuchAlgorithmException {\n",
    "        String hashOfEnteredPassword = hashPassword(enteredPassword, storedSalt);\n",
    "        return hashOfEnteredPassword.equalsIgnoreCase(storedHash);\n",
    "    }\n",
    "\n",
    "    public static void main(String[] args) {\n",
    "        try {\n",
    "            // Generar un salt\n",
    "            byte[] salt = generateSalt(16);\n",
    "            System.out.println(\"Salt: \" + Arrays.toString(salt));\n",
    "\n",
    "            // Hash de la contraseña\n",
    "            String password = \"123abc.\";\n",
    "            String hashedPassword = hashPassword(password, salt);\n",
    "            System.out.println(\"Hash de la contraseña: \" + hashedPassword);\n",
    "            String password2 = \"123abc.\";\n",
    "            System.out.println(PasswordHasher.verifyPassword(password2, hashedPassword, salt) ? \"Igual\" : \"Diferente\"); // True\n",
    "        } catch (NoSuchAlgorithmException e) {\n",
    "            e.printStackTrace();\n",
    "        }\n",
    "    }\n",
    "}\n",
    "PasswordHasher.main(null);"
   ]
  }
 ],
 "metadata": {
  "kernelspec": {
   "display_name": "Java",
   "language": "java",
   "name": "ijava"
  },
  "language_info": {
   "codemirror_mode": "java",
   "file_extension": ".jshell",
   "mimetype": "text/x-java-source",
   "name": "Java",
   "pygments_lexer": "java",
   "version": "11.0.24+8-post-Ubuntu-1ubuntu324.04.1"
  }
 },
 "nbformat": 4,
 "nbformat_minor": 2
}
