{
 "cells": [
  {
   "cell_type": "markdown",
   "metadata": {},
   "source": [
    "# Guardado de contraseñas\n",
    "\n",
    "Hash + salt"
   ]
  },
  {
   "cell_type": "code",
   "execution_count": 8,
   "metadata": {
    "vscode": {
     "languageId": "csharp"
    }
   },
   "outputs": [
    {
     "name": "stdout",
     "output_type": "stream",
     "text": [
      "Salt: a9980de2e25cb82b8ba3a630969a4775\n",
      "Hash de la contraseña: 25c5c853fdfec720636317990fbfcd5475b61d5b0fab6a442b1c7f3b87dca7b4\n",
      "Diferente\n"
     ]
    }
   ],
   "source": [
    "using System;\n",
    "using System.Security.Cryptography;\n",
    "using System.Text;\n",
    "\n",
    "public class PasswordHasher\n",
    "{\n",
    "    // Generar un salt aleatorio\n",
    "    public static byte[] GenerateSalt(int length = 16)\n",
    "    {\n",
    "        var salt = new byte[length];\n",
    "        using (var rng = RandomNumberGenerator.Create())\n",
    "        {\n",
    "\n",
    "            rng.GetBytes(salt);\n",
    "            return salt;\n",
    "        }\n",
    "    }\n",
    "\n",
    "    // Hash de la contraseña combinando la contraseña y el salt\n",
    "    public static string HashPassword(string password, byte[] salt)\n",
    "    {\n",
    "        using (var sha256 = SHA256.Create())\n",
    "        {\n",
    "            // Convertir la contraseña a bytes y concatenar con el salt\n",
    "            var passwordBytes = Encoding.UTF8.GetBytes(password);\n",
    "            var saltedPassword = new byte[passwordBytes.Length + salt.Length];\n",
    "\n",
    "            Buffer.BlockCopy(passwordBytes, 0, saltedPassword, 0, passwordBytes.Length);\n",
    "            Buffer.BlockCopy(salt, 0, saltedPassword, passwordBytes.Length, salt.Length);\n",
    "\n",
    "            // Generar el hash\n",
    "            var hash = sha256.ComputeHash(saltedPassword);\n",
    "            return BitConverter.ToString(hash).Replace(\"-\", \"\").ToLower(); // Convertir a formato hexadecimal\n",
    "        }\n",
    "    }\n",
    "    public static bool VerifyPassword(string enteredPassword, string storedHash, byte[] storedSalt)\n",
    "    {\n",
    "        string hashOfEnteredPassword = HashPassword(enteredPassword, storedSalt);\n",
    "        return hashOfEnteredPassword.Equals(storedHash, StringComparison.OrdinalIgnoreCase);\n",
    "    }\n",
    "}\n",
    "\n",
    "// Generar un salt\n",
    "byte[] salt = PasswordHasher.GenerateSalt();\n",
    "Console.WriteLine($\"Salt: {BitConverter.ToString(salt).Replace(\"-\", \"\").ToLower()}\");\n",
    "\n",
    "// Hash de la contraseña\n",
    "string password = \"123abc.\";\n",
    "string hashedPassword = PasswordHasher.HashPassword(password, salt);\n",
    "Console.WriteLine($\"Hash de la contraseña: {hashedPassword}\");\n",
    "\n",
    "string password2 = \"123abc.\";\n",
    "Console.WriteLine (PasswordHasher.VerifyPassword(password2, hashedPassword, salt)==true?\"Igual\":\"Diferente\"); // True\n"
   ]
  }
 ],
 "metadata": {
  "kernelspec": {
   "display_name": ".NET (C#)",
   "language": "C#",
   "name": ".net-csharp"
  },
  "language_info": {
   "file_extension": ".cs",
   "mimetype": "text/x-csharp",
   "name": "C#",
   "pygments_lexer": "csharp",
   "version": "12.0"
  }
 },
 "nbformat": 4,
 "nbformat_minor": 2
}
